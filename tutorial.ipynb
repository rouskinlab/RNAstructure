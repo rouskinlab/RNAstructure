{
 "cells": [
  {
   "cell_type": "markdown",
   "metadata": {},
   "source": [
    "# RNAstructure wrapper\n",
    "\n",
    "### Simple use"
   ]
  },
  {
   "cell_type": "code",
   "execution_count": 1,
   "metadata": {},
   "outputs": [],
   "source": [
    "from rnastructure_wrapper import RNAstructure\n",
    "\n",
    "rna = RNAstructure()\n",
    "sequence = \"TAGGTTATTCATGACCAGGTCTGATCCTAACTGATCCCTGCACCTGAGACAATTGTCAGTAAAATTCCCCCGCCGGACGGTGAAATCTTAGACACTGATGCGCACTTGCCTTCATCCACCGCAGATCGGCCGCACTAGGTACCGGATTCAAATTGCAATATAATGTGGATCGAGTTGCTC\"\n",
    "prediction = rna.fold(sequence)\n",
    "\n",
    "assert prediction['dotbracket'] == \"..(((((....))))).((......))((((((((((.((((.((((........))))...........((((....)))).(((((...((.(((.(((((..((((...........))))....).)))).)))))...))))).....)))).........))))).)))))...\"\n",
    "assert prediction['energy'] == -38.0"
   ]
  },
  {
   "cell_type": "markdown",
   "metadata": {},
   "source": [
    "### Add chemical probing data\n",
    "\n",
    "Note: if none of your chemical probing signal is above 0.2, the function will grab your attention on it"
   ]
  },
  {
   "cell_type": "code",
   "execution_count": 2,
   "metadata": {},
   "outputs": [
    {
     "name": "stdout",
     "output_type": "stream",
     "text": [
      "The DMS or SHAPE signal seems to be very low (max < 0.2). Are you sure they are normalized?\n"
     ]
    }
   ],
   "source": [
    "import numpy as np\n",
    "prediction = rna.fold(sequence, dms=np.zeros(len(sequence)), shape=np.zeros(len(sequence)))\n",
    "prediction['dotbracket']\n",
    "assert prediction['dotbracket'] == '...((((....))))(((((..((((......)))).....))))).(((....)))((((..((((.((....)).(((((....(((((.......((((.....(((...(((.......))).)))))))))))))))))((((((.((((.....)))).)))))))))))))).'"
   ]
  },
  {
   "cell_type": "markdown",
   "metadata": {},
   "source": [
    "### Process multiple sequences"
   ]
  },
  {
   "cell_type": "code",
   "execution_count": 3,
   "metadata": {},
   "outputs": [
    {
     "name": "stdout",
     "output_type": "stream",
     "text": [
      "The DMS or SHAPE signal seems to be very low (max < 0.2). Are you sure they are normalized?\n",
      "The DMS or SHAPE signal seems to be very low (max < 0.2). Are you sure they are normalized?\n",
      "The DMS or SHAPE signal seems to be very low (max < 0.2). Are you sure they are normalized?\n",
      "The DMS or SHAPE signal seems to be very low (max < 0.2). Are you sure they are normalized?\n"
     ]
    },
    {
     "data": {
      "text/plain": [
       "[{'energy': -38.0,\n",
       "  'dotbracket': '..(((((....))))).((......))((((((((((.((((.((((........))))...........((((....)))).(((((...((.(((.(((((..((((...........))))....).)))).)))))...))))).....)))).........))))).)))))...'},\n",
       " {'energy': -132.5,\n",
       "  'dotbracket': '...((((....))))(((((..((((......)))).....))))).(((....)))((((..((((.((....)).(((((....(((((.......((((.....(((...(((.......))).)))))))))))))))))((((((.((((.....)))).)))))))))))))).'},\n",
       " {'energy': None,\n",
       "  'dotbracket': '....................................................................................................................................................................................'}]"
      ]
     },
     "execution_count": 3,
     "metadata": {},
     "output_type": "execute_result"
    }
   ],
   "source": [
    "sequences = [sequence, sequence, sequence]\n",
    "dms = [None, None, np.zeros(len(sequence))]\n",
    "shape = [None, np.zeros(len(sequence)), np.ones(len(sequence))]\n",
    "\n",
    "# with 1 processor\n",
    "rna.fold(sequences, dms=dms, shape=shape, nproc=1) \n",
    "\n",
    "# with multiple processors\n",
    "rna.fold(sequences, dms=dms, shape=shape, nproc=8)"
   ]
  },
  {
   "cell_type": "markdown",
   "metadata": {},
   "source": [
    "### Get the partition function"
   ]
  },
  {
   "cell_type": "code",
   "execution_count": 4,
   "metadata": {},
   "outputs": [
    {
     "data": {
      "text/plain": [
       "[{'energy': -38.0,\n",
       "  'dotbracket': '..(((((....))))).((......))((((((((((.((((.((((........))))...........((((....)))).(((((...((.(((.(((((..((((...........))))....).)))).)))))...))))).....)))).........))))).)))))...'},\n",
       " {'energy': -37.3,\n",
       "  'dotbracket': '..(((((....))))).(.((.(((((..((.......((((.((((........))))...........((((....)))).(((((...((.(((.(((((..((((...........))))....).)))).)))))...))))).....)))).......))))))))).).....'},\n",
       " {'energy': -36.1,\n",
       "  'dotbracket': '..(((((....))))).((((.((((......)))).((((..((((((..((((((.((...........))..))))))....)))))).....((((.((....))...))))....))))...))))......(((((..((((((.((((.....)))).))))))..).)))).'},\n",
       " {'energy': -36.1,\n",
       "  'dotbracket': '..(((((....))))).((.(((((.((.((((((...((.........))...)))))).....(((......)))(((((..............((((.((....))...))))))))).)))))))))......(((((..((((((.((((.....)))).))))))..).)))).'},\n",
       " {'energy': -35.9,\n",
       "  'dotbracket': '(((((..........((((...((((......)))))))).))))).(((....)))..............(((((.(((((..............((((.((....))...)))))))))....))))).(((((.(((.(((.(((.............))).)))))).)).)))..'},\n",
       " {'energy': -35.8,\n",
       "  'dotbracket': '.(((....(((.(((...)))))).))).((((((((.((((.((((........))))...........((((....)))).(((((...((.(((.(((((..((((...........))))....).)))).)))))...))))).....)))).........))))).))).....'},\n",
       " {'energy': -35.8,\n",
       "  'dotbracket': '..(((((....)))))..((((((.....((((.(((..((((.(((........)))))...........)).)))))))......)))))).(((.(((((..((((...........))))....).)))).)))((((..((((((.((((.....)))).))))))..).)))..'},\n",
       " {'energy': -35.5,\n",
       "  'dotbracket': '...((((....))))(((((..((((......)))).....))))).......(((((((..........((((....))))...........))))))).(((((((.....((((((.(((((((((((......))..))).))).....)))........))))))))))).))..'},\n",
       " {'energy': -35.3,\n",
       "  'dotbracket': '..(((((....))))).(((((((.....((((.(((..((((.(((........)))))...........)).)))))))......)))))).).((((.((....))...))))....((((.(((((((((.((.......(((....)))......)).))))).)))).))))..'},\n",
       " {'energy': -35.2,\n",
       "  'dotbracket': '..(((.((((.....(((((..((((......)))).....))))).(((....)))........(((......)))(((((..............((((.((....))...))))))))).....(((((......))..)))((((((.((((.....)))).)))))))))).))).'},\n",
       " {'energy': -34.5,\n",
       "  'dotbracket': '..(((((....))))).((.((((((......(((....(((.((((........))))......(((......))).((((..(((.........)))...)))))))....))).......))))))))......(((((..((((((.((((.....)))).))))))..).)))).'},\n",
       " {'energy': -34.5,\n",
       "  'dotbracket': '..((..(((..(((((((((..((((......)))).....)))))........))))....)))..)).((((((.(((((..............((((.((....))...)))))))))....)))).)).....(((((..((((((.((((.....)))).))))))..).)))).'}]"
      ]
     },
     "execution_count": 4,
     "metadata": {},
     "output_type": "execute_result"
    }
   ],
   "source": [
    "rna.fold(sequence, mfe_only=False)"
   ]
  },
  {
   "cell_type": "markdown",
   "metadata": {},
   "source": [
    "### Change the output format"
   ]
  },
  {
   "cell_type": "code",
   "execution_count": 5,
   "metadata": {},
   "outputs": [
    {
     "name": "stdout",
     "output_type": "stream",
     "text": [
      "{'energy': -1.1, 'dotbracket': '(((...)))'}\n",
      "{'energy': -1.1, 'matrix': array([[0., 0., 0., 0., 0., 0., 0., 0., 1.],\n",
      "       [0., 0., 0., 0., 0., 0., 0., 1., 0.],\n",
      "       [0., 0., 0., 0., 0., 0., 1., 0., 0.],\n",
      "       [0., 0., 0., 0., 0., 0., 0., 0., 0.],\n",
      "       [0., 0., 0., 0., 0., 0., 0., 0., 0.],\n",
      "       [0., 0., 0., 0., 0., 0., 0., 0., 0.],\n",
      "       [0., 0., 1., 0., 0., 0., 0., 0., 0.],\n",
      "       [0., 1., 0., 0., 0., 0., 0., 0., 0.],\n",
      "       [1., 0., 0., 0., 0., 0., 0., 0., 0.]])}\n",
      "{'energy': -1.1, 'basepairs': [(3, 7), (2, 8), (1, 9)]}\n"
     ]
    }
   ],
   "source": [
    "sequence = \"GGGAAAUCC\"\n",
    "print(rna.fold(sequence, output_format='dotbracket')) # by default\n",
    "print(rna.fold(sequence, output_format='matrix'))\n",
    "print(rna.fold(sequence, output_format='basepairs')) # 1-indexed"
   ]
  }
 ],
 "metadata": {
  "kernelspec": {
   "display_name": "Python 3",
   "language": "python",
   "name": "python3"
  },
  "language_info": {
   "codemirror_mode": {
    "name": "ipython",
    "version": 3
   },
   "file_extension": ".py",
   "mimetype": "text/x-python",
   "name": "python",
   "nbconvert_exporter": "python",
   "pygments_lexer": "ipython3",
   "version": "3.11.6"
  }
 },
 "nbformat": 4,
 "nbformat_minor": 2
}
